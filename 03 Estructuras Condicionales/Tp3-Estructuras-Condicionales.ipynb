{
 "cells": [
  {
   "cell_type": "markdown",
   "id": "029bfd78",
   "metadata": {},
   "source": [
    "    Trabajo Practico 3 Estructuras Condicionales"
   ]
  },
  {
   "cell_type": "markdown",
   "id": "093c52c9",
   "metadata": {},
   "source": [
    "Ejercicio 1\n",
    "Escribir un programa que solicite la edad del usuario. Si el usuario es mayor de 18 años, deberá mostrar un mensaje en pantalla que diga \"Es mayor de edad\"."
   ]
  },
  {
   "cell_type": "code",
   "execution_count": 36,
   "id": "204f29ef",
   "metadata": {},
   "outputs": [
    {
     "name": "stdout",
     "output_type": "stream",
     "text": [
      "Es mayor de edad\n"
     ]
    }
   ],
   "source": [
    "b = 17\n",
    "edad = int(input(\"Ingrese su edad\"))\n",
    "if (edad > b):\n",
    "    print(\"Es mayor de edad\")"
   ]
  },
  {
   "cell_type": "markdown",
   "id": "a762fd15",
   "metadata": {},
   "source": [
    "Ejercicio 2\n",
    "Escribir un programa que solicite su nota al usuario. Si la nota es mayor o igual a 6, deberá mostrar por pantalla un mensaje que diga “Aprobado”; en caso contrario deberá mostrar el\n",
    "mensaje “Desaprobado”"
   ]
  },
  {
   "cell_type": "code",
   "execution_count": null,
   "id": "330bebbd",
   "metadata": {},
   "outputs": [],
   "source": [
    "nota = int(input(\"Ingrese su nota\"))\n",
    "if nota >= 6:\n",
    "    print(\"Aprobado\")\n",
    "else:\n",
    "    print(\"Desaprobado\")"
   ]
  },
  {
   "cell_type": "markdown",
   "id": "5c597117",
   "metadata": {},
   "source": [
    "Ejercicio 3\n",
    "Escribir un programa que permita ingresar solo números pares. Si el usuario ingresa un número par, imprimir por en pantalla el mensaje \"Ha ingresado un número par\"; en caso contrario, imprimir por pantalla \"Por favor, ingrese un número par\". Nota: investigar el uso del operador de módulo (%) en Python para evaluar si un número es par o impar"
   ]
  },
  {
   "cell_type": "code",
   "execution_count": null,
   "id": "f210337e",
   "metadata": {},
   "outputs": [],
   "source": [
    "num = int(input(\"Ingrese solo numeros pares\"))\n",
    "if (num % 2 == 0):\n",
    "    print(\"Ha ingresado un numero par\")\n",
    "else:\n",
    "    print(\"Por favor, ingrese un numero par\")    "
   ]
  },
  {
   "cell_type": "markdown",
   "id": "b23e2df2",
   "metadata": {},
   "source": [
    "Ejercicio 4\n",
    "Escribir un programa que solicite al usuario su edad e imprima por pantalla a cuál de las siguientes categorías pertenece:\n",
    "● Niño/a: menor de 12 años.\n",
    "● Adolescente: mayor o igual que 12 años y menor que 18 años.\n",
    "● Adulto/a joven: mayor o igual que 18 años y menor que 30 años.\n",
    "● Adulto/a: mayor o igual que 30 años.\n"
   ]
  },
  {
   "cell_type": "code",
   "execution_count": null,
   "id": "5a944249",
   "metadata": {},
   "outputs": [],
   "source": [
    "edad = int(input(\"Ingrese su edad\"))\n",
    "if (edad < 12):\n",
    "    print(\"Usted es niño/a\")\n",
    "elif(edad >= 12 and edad < 18):\n",
    "    print(\"Usted es adolescente\")\n",
    "elif(edad >= 18 and edad < 30):\n",
    "    print(\"Usted es Adulto/a joven\")\n",
    "elif(edad >= 30):\n",
    "    print(\"Usted es Adulto/a\")"
   ]
  },
  {
   "cell_type": "markdown",
   "id": "b1695e12",
   "metadata": {},
   "source": [
    "Ejercicio 5\n",
    "Escribir un programa que permita introducir contraseñas de entre 8 y 14 caracteres (incluyendo 8 y 14). Si el usuario ingresa una contraseña de longitud adecuada, imprimir por en pantalla el mensaje \"Ha ingresado una contraseña correcta\"; en caso contrario, imprimir por pantalla \"Por favor, ingrese una contraseña de entre 8 y 14 caracteres\". Nota: investigue el uso de la función len() en Python para evaluar la cantidad de elementos que tiene un iterable tal como una lista o un string."
   ]
  },
  {
   "cell_type": "code",
   "execution_count": null,
   "id": "c7d46365",
   "metadata": {},
   "outputs": [],
   "source": [
    "contraseña = input(\"Ingrese una contraseña que tenga entre 8 y 14 caracteres\")\n",
    "if (len(contraseña) >= 8 and len(contraseña) <= 14):\n",
    "    print(\"Ha ingresado una contraseña correcta\")\n",
    "else:\n",
    "    print(\"Por favor, ingrese una contraseña de entre 8 y 14 caracteres\")"
   ]
  },
  {
   "cell_type": "markdown",
   "id": "5f74a90c",
   "metadata": {},
   "source": [
    "Ejercicio 6\n",
    " El paquete statistics de python contiene funciones que permiten tomar una lista de números y calcular la moda, la mediana y la media de dichos números. Un ejemplo de su uso es el\n",
    "siguiente:"
   ]
  },
  {
   "cell_type": "code",
   "execution_count": null,
   "id": "20894582",
   "metadata": {},
   "outputs": [],
   "source": [
    "from statistics import mode, median, mean\n",
    "mi_lista = [1,2,5,5,3]\n",
    "mean(mi_lista)"
   ]
  },
  {
   "cell_type": "markdown",
   "id": "f257ff5a",
   "metadata": {},
   "source": [
    "En la documentación oficial se puede encontrar más información sobre este paquete: https://docs.python.org/es/3.8/library/statistics.html.\n",
    "La moda (mode), la mediana (median) y la media (mean) son parámetros estadísticos que se pueden utilizar para predecir la forma de una distribución normal a partir del siguiente criterio:\n",
    "\n",
    "   ● Sesgo positivo o a la derecha: cuando la media es mayor que la mediana y, a su vez, la\n",
    "mediana es mayor que la moda.\n",
    "   ● Sesgo negativo o a la izquierda: cuando la media es menor que la mediana y, a su vez,\n",
    "la mediana es menor que la moda.\n",
    "   ● Sin sesgo: cuando la media, la mediana y la moda son iguales.\n",
    "\n",
    "Teniendo en cuenta lo antes mencionado, escribir un programa que tome la lista numeros_aleatorios, calcule su moda, su mediana y su media y las compare para determinar si hay sesgo positivo, negativo o no hay sesgo. Imprimir el resultado por pantalla. Definir la lista numeros_aleatorios de la siguiente forma:"
   ]
  },
  {
   "cell_type": "code",
   "execution_count": null,
   "id": "72463337",
   "metadata": {},
   "outputs": [],
   "source": [
    "import random\n",
    "numeros_aleatorios = [random.randint(1, 100) for i in range(50)]"
   ]
  },
  {
   "cell_type": "markdown",
   "id": "3ec6cebc",
   "metadata": {},
   "source": [
    "Nota: el bloque de código anterior crea una lista con 50 números entre 1 y 100 elegidos de\n",
    "forma aleatoria."
   ]
  },
  {
   "cell_type": "code",
   "execution_count": 34,
   "id": "3c741be5",
   "metadata": {},
   "outputs": [
    {
     "name": "stdout",
     "output_type": "stream",
     "text": [
      "La media es:  4\n",
      "La mediana es:  3\n",
      "La moda es:  1\n",
      "Hay sesgo positivo\n"
     ]
    }
   ],
   "source": [
    "import random\n",
    "numeros_aleatorios = [random.randint(1, 10) for i in range(3)]\n",
    "from statistics import mode, median, mean\n",
    "print(\"La media es: \",mean(numeros_aleatorios))\n",
    "\n",
    "print(\"La mediana es: \",median(numeros_aleatorios))\n",
    "\n",
    "print(\"La moda es: \",mode(numeros_aleatorios))\n",
    "if (mean(numeros_aleatorios) > median(numeros_aleatorios) and median(numeros_aleatorios) > mode(numeros_aleatorios)):\n",
    "    print(\"Hay sesgo positivo\")\n",
    "elif (mean(numeros_aleatorios) < median(numeros_aleatorios) and median(numeros_aleatorios) < mode(numeros_aleatorios) ):\n",
    "    print(\"Hay sesgo negativo\")\n",
    "elif (mean(numeros_aleatorios) == median(numeros_aleatorios) and median(numeros_aleatorios) == mode(numeros_aleatorios) ):\n",
    "    print(\"Sin sesgo\")"
   ]
  },
  {
   "cell_type": "markdown",
   "id": "ca124f69",
   "metadata": {},
   "source": [
    "Ejercicio 7\n",
    "Escribir un programa que solicite una frase o palabra al usuario. Si el string ingresado termina con vocal, añadir un signo de exclamación al final e imprimir el string resultante por\n",
    "pantalla; en caso contrario, dejar el string tal cual lo ingresó el usuario e imprimirlo por pantalla."
   ]
  },
  {
   "cell_type": "code",
   "execution_count": null,
   "id": "9e1183c0",
   "metadata": {},
   "outputs": [],
   "source": [
    "frase =  (input(\"Ingrese una frase\"))\n",
    "caracter = frase[-1]\n",
    "if caracter == 'a' or caracter == 'e' or caracter == 'i' or caracter == 'o' or caracter == 'u':\n",
    "    print(f\"{frase}!\")\n",
    "else:\n",
    "    print(frase)"
   ]
  },
  {
   "cell_type": "markdown",
   "id": "7e6be719",
   "metadata": {},
   "source": [
    "Ejercicio 8\n",
    "Escribir un programa que solicite al usuario que ingrese su nombre y el número 1, 2 o 3 dependiendo de la opción que desee:\n",
    "    1. Si quiere su nombre en mayúsculas. Por ejemplo: PEDRO.\n",
    "    2. Si quiere su nombre en minúsculas. Por ejemplo: pedro.\n",
    "    3. Si quiere su nombre con la primera letra mayúscula. Por ejemplo: Pedro.\n",
    "El programa debe transformar el nombre ingresado de acuerdo a la opción seleccionada por el usuario e imprimir el resultado por pantalla. Nota: investigue uso de las funciones upper(),\n",
    "lower() y title() de Python para convertir entre mayúsculas y minúsculas."
   ]
  },
  {
   "cell_type": "code",
   "execution_count": null,
   "id": "97237cc2",
   "metadata": {},
   "outputs": [],
   "source": [
    "from turtle import title\n",
    "\n",
    "nombre = input(\"Ingrese su nombre\")\n",
    "num = int(input(\"Ingrese el numero 1, 2 o 3\"))\n",
    "if num == 1:\n",
    "  print(nombre.upper())\n",
    "elif num == 2:\n",
    "    print (nombre.lower())\n",
    "elif num == 3:\n",
    "    print (nombre.title())\n",
    "    \n"
   ]
  },
  {
   "cell_type": "markdown",
   "id": "45852c6a",
   "metadata": {},
   "source": [
    "Ejercicio 9\n",
    "Escribir un programa que pida al usuario la magnitud de un terremoto, clasifique la\n",
    "magnitud en una de las siguientes categorías según la escala de Richter e imprima el resultado\n",
    "por pantalla:\n",
    "● Menor que 3: \"Muy leve\" (imperceptible).\n",
    "● Mayor o igual que 3 y menor que 4: \"Leve\" (ligeramente perceptible).\n",
    "● Mayor o igual que 4 y menor que 5: \"Moderado\" (sentido por personas, pero\n",
    "generalmente no causa daños).\n",
    "● Mayor o igual que 5 y menor que 6: \"Fuerte\" (puede causar daños en estructuras\n",
    "débiles).\n",
    "● Mayor o igual que 6 y menor que 7: \"Muy Fuerte\" (puede causar daños significativos).\n",
    "● Mayor o igual que 7: \"Extremo\" (puede causar graves daños a gran escala)."
   ]
  },
  {
   "cell_type": "code",
   "execution_count": null,
   "id": "d7dfea8c",
   "metadata": {},
   "outputs": [],
   "source": [
    "magnitud = int(input(\"Ingrese la magnitud de un terremoto\"))\n",
    "if magnitud < 3:\n",
    "    print(\"Muy leve\" \"(Imperceptible).\")\n",
    "elif magnitud >= 3 and magnitud < 4:\n",
    "    print(\"Leve\"\"(ligeramente perceptible).\")\n",
    "elif magnitud >= 4 and magnitud < 5:\n",
    "    print(\"Moderado\"\"(sentido por personas, pero generalmente no causa daños).\")\n",
    "elif magnitud >= 6 and magnitud < 6:\n",
    "    print(\"Fuerte\"\"(puede causar daños en estructuras débiles).\")\n",
    "elif magnitud >= 6 and magnitud <7:\n",
    "    print(\"Muy fuerte\"\"(puede causar daños significativos).\")\n",
    "elif magnitud >= 7:\n",
    "    print(\"Extremo\"\"(puede causar graves daños a gran escala).\")"
   ]
  },
  {
   "cell_type": "markdown",
   "id": "eadd9509",
   "metadata": {},
   "source": [
    "Ejercicio 10\n",
    "Utilizando la información aportada en la siguiente tabla sobre las estaciones del año\n",
    "Verificar tabla sobre estaciones en pdf!!!\n",
    "Escribir un programa que pregunte al usuario en cuál hemisferio se encuentra (N/S), qué mes\n",
    "del año es y qué día es. El programa deberá utilizar esa información para imprimir por pantalla\n",
    "si el usuario se encuentra en otoño, invierno, primavera o verano."
   ]
  },
  {
   "cell_type": "code",
   "execution_count": null,
   "id": "eeb3c5fc",
   "metadata": {},
   "outputs": [
    {
     "name": "stdout",
     "output_type": "stream",
     "text": [
      "Otoño\n"
     ]
    }
   ],
   "source": [
    "hemisferio = input(\"En que hemisferio se encuentra? Escriba 'N' para hemisferio norte o 'S' para hemisferio sur\").lower()\n",
    "mes = input(\"En que mes del año se encuentra?\").lower()\n",
    "dia = int(input(\"En que dia del mes se encuentra?\"))\n",
    "\n",
    "if hemisferio == 'n':\n",
    "    if mes == 'diciembre' and dia >= 21 or mes == 'enero' or mes == 'febrero' or mes == 'marzo' and dia <= 20:\n",
    "        print (\"Usted se encuentra en invierno\")\n",
    "    elif mes == 'marzo' and dia >= 21 or mes == 'abril' or mes == 'mayo' or mes == 'junio' and dia <= 20:\n",
    "        print (\"Usted se encuentra en Primavera\")\n",
    "    elif mes == 'junio' and dia >= 21 or mes == 'julio' or mes == 'agosto' or mes == 'septiembre' and dia <= 20:\n",
    "        print(\"Usted se encuentra en Verano\")\n",
    "    elif mes == 'septiembre' and dia >= 21 or mes == 'octubre' or mes == 'noviembre' or mes == 'diciembre' <= 20:\n",
    "        print(\"Usted se encuentra en Otoño\")\n",
    "    pass\n",
    "if hemisferio == 's':\n",
    "    if mes == 'diciembre' and dia >= 21 or mes == 'enero' or mes == 'febrero' or mes == 'marzo' and dia <= 20:\n",
    "        print (\"Usted se encuentra en Verano\")\n",
    "    elif mes == 'marzo' and dia >= 21 or mes == 'abril' or mes == 'mayo' or mes == 'junio' and dia <= 20:\n",
    "        print (\"Usted se encuentra en Otoño\")\n",
    "    elif mes == 'junio' and dia >= 21 or mes == 'julio' or mes == 'agosto' or mes == 'septiembre' and dia <= 20:\n",
    "        print(\"Usted se encuentra en Invierno\")\n",
    "    elif mes == 'septiembre' and dia >= 21 or mes == 'octubre' or mes == 'noviembre' or mes == 'diciembre' <= 20:\n",
    "        print(\"Usted se encuentra en Primavera\")\n",
    "    pass"
   ]
  }
 ],
 "metadata": {
  "kernelspec": {
   "display_name": "Python 3",
   "language": "python",
   "name": "python3"
  },
  "language_info": {
   "codemirror_mode": {
    "name": "ipython",
    "version": 3
   },
   "file_extension": ".py",
   "mimetype": "text/x-python",
   "name": "python",
   "nbconvert_exporter": "python",
   "pygments_lexer": "ipython3",
   "version": "3.13.2"
  }
 },
 "nbformat": 4,
 "nbformat_minor": 5
}
