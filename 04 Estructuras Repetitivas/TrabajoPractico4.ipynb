{
 "cells": [
  {
   "cell_type": "markdown",
   "metadata": {},
   "source": [
    "1) Crea un programa que imprima en pantalla todos los números enteros desde 0 hasta 100 \n",
    "(incluyendo ambos extremos), en orden creciente, mostrando un número por línea."
   ]
  },
  {
   "cell_type": "code",
   "execution_count": null,
   "metadata": {},
   "outputs": [],
   "source": [
    "for x in range(101):\n",
    "    print(x)\n",
    "    "
   ]
  },
  {
   "cell_type": "markdown",
   "metadata": {},
   "source": [
    "2) Desarrolla un programa que solicite al usuario un número entero y determine la cantidad de \n",
    "dígitos que contiene."
   ]
  },
  {
   "cell_type": "code",
   "execution_count": null,
   "metadata": {},
   "outputs": [],
   "source": [
    "numero = input(\"Ingresa un número entero: \")\n",
    "\n",
    "cantidad_digitos = len(numero)\n",
    "\n",
    "print(\"El número tiene\", cantidad_digitos, \"dígitos.\")"
   ]
  },
  {
   "cell_type": "markdown",
   "metadata": {},
   "source": [
    "3) Escribe un programa que sume todos los números enteros comprendidos entre dos valores \n",
    "dados por el usuario, excluyendo esos dos valores."
   ]
  },
  {
   "cell_type": "code",
   "execution_count": null,
   "metadata": {},
   "outputs": [],
   "source": [
    "inicio = int(input(\"Ingresa el primer número entero: \"))\n",
    "fin = int(input(\"Ingresa el segundo número entero: \"))\n",
    "\n",
    "suma = 0\n",
    "if inicio < fin:\n",
    "    for numero in range(inicio + 1, fin):\n",
    "        suma += numero\n",
    "elif inicio > fin:\n",
    "    for numero in range(fin +1, inicio):\n",
    "        suma += numero\n",
    "        break\n",
    "print(\"La suma de los números entre\", inicio, \"y\", fin, \"es:\", suma)"
   ]
  },
  {
   "cell_type": "markdown",
   "metadata": {},
   "source": [
    "4) Elabora un programa que permita al usuario ingresar números enteros y los sume en \n",
    "secuencia. El programa debe detenerse y mostrar el total acumulado cuando el usuario ingrese \n",
    "un 0."
   ]
  },
  {
   "cell_type": "code",
   "execution_count": null,
   "metadata": {},
   "outputs": [],
   "source": [
    "suma_total = 0\n",
    "\n",
    "print(\"Ingresá números enteros uno por uno. Ingresá 0 para finalizar.\")\n",
    "\n",
    "while True:\n",
    "    numero = int(input(\"Ingresá un número: \"))\n",
    "    if numero == 0:\n",
    "        break  \n",
    "    suma_total += numero \n",
    "\n",
    "print(\"La suma total es:\", suma_total)"
   ]
  },
  {
   "cell_type": "markdown",
   "metadata": {},
   "source": [
    "5) Crea un juego en el que el usuario deba adivinar un número aleatorio entre 0 y 9. Al final, el \n",
    "programa debe mostrar cuántos intentos fueron necesarios para acertar el número."
   ]
  },
  {
   "cell_type": "code",
   "execution_count": null,
   "metadata": {},
   "outputs": [
    {
     "name": "stdout",
     "output_type": "stream",
     "text": [
      "[5]\n",
      "Número equivocado, Ingrese nuevamento otro numero\n",
      "Número equivocado, Ingrese nuevamento otro numero\n",
      "Por favor, ingresá un número válido.\n",
      "Por favor, ingresá un número válido.\n",
      "Felicitacion el Número 5 es correcto\n"
     ]
    }
   ],
   "source": [
    "import random\n",
    "\n",
    "numeros_aleatorios = [random.randint(1, 9) for i in range(1)]\n",
    "print(numeros_aleatorios)  # Esto lo podés sacar si querés que sea sorpresa\n",
    "\n",
    "cont = 0\n",
    "while True:\n",
    "    try:\n",
    "        num = int(input(\"Ingrese un número del 1 al 9: \"))\n",
    "    except ValueError:\n",
    "        print(\"Por favor, ingresá un número válido.\")\n",
    "        continue\n",
    "\n",
    "    cont += 1\n",
    "\n",
    "    if num == numeros_aleatorios[0]:\n",
    "        print(f\"Felicitaciones el Número {num} es correcto\")\n",
    "        break\n",
    "    else:\n",
    "        print(\"Número equivocado, Ingrese nuevamento otro numero\")\n"
   ]
  },
  {
   "cell_type": "markdown",
   "metadata": {},
   "source": [
    "6) Desarrolla un programa que imprima en pantalla todos los números pares comprendidos \n",
    "entre 0 y 100, en orden decreciente."
   ]
  },
  {
   "cell_type": "code",
   "execution_count": null,
   "metadata": {},
   "outputs": [],
   "source": [
    "for x in range (100, 0 ,-2):\n",
    "    print(x)"
   ]
  },
  {
   "cell_type": "markdown",
   "metadata": {},
   "source": [
    "7) Crea un programa que calcule la suma de todos los números comprendidos entre 0 y un \n",
    "número entero positivo indicado por el usuario."
   ]
  },
  {
   "cell_type": "code",
   "execution_count": 52,
   "metadata": {},
   "outputs": [
    {
     "name": "stdout",
     "output_type": "stream",
     "text": [
      "La suma de los números de 0 a 6 es: 21\n"
     ]
    }
   ],
   "source": [
    "try:\n",
    "    numero = int(input(\"Ingrese un número entero positivo: \"))\n",
    "    \n",
    "    if numero < 0:\n",
    "        print(\"El número debe ser positivo.\")\n",
    "    else:\n",
    "        suma = 0\n",
    "        for i in range(numero + 1):  # sumamos desde 0 hasta el número incluido\n",
    "            suma += i\n",
    "        print(f\"La suma de los números de 0 a {numero} es: {suma}\")\n",
    "\n",
    "except ValueError:\n",
    "    print(\"Por favor, ingresá un número entero válido.\")"
   ]
  },
  {
   "cell_type": "markdown",
   "metadata": {},
   "source": [
    "8) Escribe un programa que permita al usuario ingresar 100 números enteros. Luego, el\n",
    "programa debe indicar cuántos de estos números son pares, cuántos son impares, cuántos son \n",
    "negativos y cuántos son positivos. (Nota: para probar el programa puedes usar una cantidad \n",
    "menor, pero debe estar preparado para procesar 100 números con un solo cambio)."
   ]
  },
  {
   "cell_type": "code",
   "execution_count": null,
   "metadata": {},
   "outputs": [],
   "source": [
    "cantidad_numeros = 100  \n",
    "\n",
    "pares = 0\n",
    "impares = 0\n",
    "positivos = 0\n",
    "negativos = 0\n",
    "\n",
    "for i in range(cantidad_numeros):\n",
    "    try:\n",
    "        num = int(input(f\"Ingrese el número {i+1}: \"))\n",
    "        \n",
    "        if num % 2 == 0:\n",
    "            pares += 1\n",
    "        else:\n",
    "            impares += 1\n",
    "        \n",
    "        if num > 0:\n",
    "            positivos += 1\n",
    "        elif num < 0:\n",
    "            negativos += 1\n",
    "\n",
    "    except ValueError:\n",
    "        print(\"Entrada inválida. Por favor, ingrese un número entero.\")\n",
    "        i -= 1\n",
    "        continue\n",
    "\n",
    "print(\"\\n--- Resultados ---\")\n",
    "print(f\"Números pares: {pares}\")\n",
    "print(f\"Números impares: {impares}\")\n",
    "print(f\"Números positivos: {positivos}\")\n",
    "print(f\"Números negativos: {negativos}\")"
   ]
  },
  {
   "cell_type": "markdown",
   "metadata": {},
   "source": [
    "9) Elabora un programa que permita al usuario ingresar 100 números enteros y luego calcule la \n",
    "media de esos valores. (Nota: puedes probar el programa con una cantidad menor, pero debe \n",
    "poder procesar 100 números cambiando solo un valor)."
   ]
  },
  {
   "cell_type": "code",
   "execution_count": null,
   "metadata": {},
   "outputs": [],
   "source": [
    "cantidad_numeros = 100  # Cambiá este valor para probar con menos\n",
    "\n",
    "suma = 0\n",
    "\n",
    "for i in range(cantidad_numeros):\n",
    "    try:\n",
    "        num = int(input(f\"Ingrese el número {i+1}: \"))\n",
    "        suma += num\n",
    "    except ValueError:\n",
    "        print(\"Entrada inválida. Por favor, ingrese un número entero.\")\n",
    "        i -= 1  \n",
    "        continue\n",
    "\n",
    "media = suma / cantidad_numeros\n",
    "print(f\"\\nLa media de los {cantidad_numeros} números ingresados es: {media}\")"
   ]
  },
  {
   "cell_type": "markdown",
   "metadata": {},
   "source": [
    "10) Escribe un programa que invierta el orden de los dígitos de un número ingresado por el \n",
    "usuario. Ejemplo: si el usuario ingresa 547, el programa debe mostrar 745."
   ]
  },
  {
   "cell_type": "code",
   "execution_count": null,
   "metadata": {},
   "outputs": [
    {
     "name": "stdout",
     "output_type": "stream",
     "text": [
      "Número invertido: 547\n"
     ]
    }
   ],
   "source": [
    "numero = input(\"Ingrese un número: \")\n",
    "\n",
    "# Verificamos si es negativo para conservar el signo\n",
    "if numero.startswith(\"-\"):\n",
    "    invertido = \"-\" + numero[:0:-1]  # invertimos desde el final hasta el segundo carácter\n",
    "else:\n",
    "    invertido = numero[::-1]  # invertimos normalmente\n",
    "\n",
    "print(f\"Número invertido: {invertido}\")"
   ]
  }
 ],
 "metadata": {
  "kernelspec": {
   "display_name": "Python 3",
   "language": "python",
   "name": "python3"
  },
  "language_info": {
   "codemirror_mode": {
    "name": "ipython",
    "version": 3
   },
   "file_extension": ".py",
   "mimetype": "text/x-python",
   "name": "python",
   "nbconvert_exporter": "python",
   "pygments_lexer": "ipython3",
   "version": "3.13.2"
  }
 },
 "nbformat": 4,
 "nbformat_minor": 2
}
